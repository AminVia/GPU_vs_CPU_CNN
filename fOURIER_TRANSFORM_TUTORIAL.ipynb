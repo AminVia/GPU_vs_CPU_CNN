{
  "nbformat": 4,
  "nbformat_minor": 0,
  "metadata": {
    "colab": {
      "provenance": [],
      "authorship_tag": "ABX9TyMg8AIXermG8gqHfM/kbdwn",
      "include_colab_link": true
    },
    "kernelspec": {
      "name": "python3",
      "display_name": "Python 3"
    },
    "language_info": {
      "name": "python"
    }
  },
  "cells": [
    {
      "cell_type": "markdown",
      "metadata": {
        "id": "view-in-github",
        "colab_type": "text"
      },
      "source": [
        "<a href=\"https://colab.research.google.com/github/AminVia/GPU_vs_CPU_CNN/blob/main/fOURIER_TRANSFORM_TUTORIAL.ipynb\" target=\"_parent\"><img src=\"https://colab.research.google.com/assets/colab-badge.svg\" alt=\"Open In Colab\"/></a>"
      ]
    },
    {
      "cell_type": "markdown",
      "source": [
        "1-D discrete Fourier transforms\n"
      ],
      "metadata": {
        "id": "sFiIjtQj7SS4"
      }
    },
    {
      "cell_type": "code",
      "execution_count": null,
      "metadata": {
        "id": "mkRtAVq16b1L"
      },
      "outputs": [],
      "source": [
        "from scipy.fft import fft, ifft\n",
        "import numpy as np\n",
        "x = np.array([1.0, 2.0, 1.0, -1.0, 1.5])\n",
        "y = fft(x)\n",
        "y"
      ]
    },
    {
      "cell_type": "code",
      "source": [
        "yinv = ifft(y)\n",
        "yinv"
      ],
      "metadata": {
        "id": "5_iAq60C6hRi"
      },
      "execution_count": null,
      "outputs": []
    },
    {
      "cell_type": "code",
      "source": [
        "np.sum(x)"
      ],
      "metadata": {
        "id": "9zjBbCaY6jxI"
      },
      "execution_count": null,
      "outputs": []
    },
    {
      "cell_type": "code",
      "source": [
        "from scipy.fft import fft, fftfreq\n",
        "import numpy as np\n",
        "# Number of sample points\n",
        "N = 600\n",
        "# sample spacing\n",
        "T = 1.0 / 800.0\n",
        "x = np.linspace(0.0, N*T, N, endpoint=False)\n",
        "y = np.sin(50.0 * 2.0*np.pi*x) + 0.5*np.sin(80.0 * 2.0*np.pi*x)\n",
        "yf = fft(y)\n",
        "xf = fftfreq(N, T)[:N//2]\n",
        "import matplotlib.pyplot as plt\n",
        "plt.plot(xf, 2.0/N * np.abs(yf[0:N//2]))\n",
        "plt.grid()\n",
        "plt.show()"
      ],
      "metadata": {
        "id": "jqOXd2J36kRg"
      },
      "execution_count": null,
      "outputs": []
    },
    {
      "cell_type": "code",
      "source": [
        "from scipy.fft import fft, fftfreq\n",
        "import numpy as np\n",
        "# Number of sample points\n",
        "N = 600\n",
        "# sample spacing\n",
        "T = 1.0 / 800.0\n",
        "x = np.linspace(0.0, N*T, N, endpoint=False)\n",
        "y = np.sin(50.0 * 2.0*np.pi*x) + 0.5*np.sin(80.0 * 2.0*np.pi*x)\n",
        "yf = fft(y)\n",
        "from scipy.signal import blackman\n",
        "w = blackman(N)\n",
        "ywf = fft(y*w)\n",
        "xf = fftfreq(N, T)[:N//2]\n",
        "import matplotlib.pyplot as plt\n",
        "plt.semilogy(xf[1:N//2], 2.0/N * np.abs(yf[1:N//2]), '-b')\n",
        "plt.semilogy(xf[1:N//2], 2.0/N * np.abs(ywf[1:N//2]), '-r')\n",
        "plt.legend(['FFT', 'FFT w. window'])\n",
        "plt.grid()\n",
        "plt.show()"
      ],
      "metadata": {
        "id": "qm4gX-CS6kgH"
      },
      "execution_count": null,
      "outputs": []
    },
    {
      "cell_type": "code",
      "source": [
        "from scipy.fft import fftfreq\n",
        "freq = fftfreq(8, 0.125)\n",
        "freq"
      ],
      "metadata": {
        "id": "SVINkWFx6kzu"
      },
      "execution_count": null,
      "outputs": []
    },
    {
      "cell_type": "code",
      "source": [
        "from scipy.fft import fftshift\n",
        "x = np.arange(8)\n",
        "fftshift(x)"
      ],
      "metadata": {
        "id": "tVAq2F6h6lCk"
      },
      "execution_count": null,
      "outputs": []
    },
    {
      "cell_type": "code",
      "source": [
        "from scipy.fft import fft, fftfreq, fftshift\n",
        "import numpy as np\n",
        "# number of signal points\n",
        "N = 400\n",
        "# sample spacing\n",
        "T = 1.0 / 800.0\n",
        "x = np.linspace(0.0, N*T, N, endpoint=False)\n",
        "y = np.exp(50.0 * 1.j * 2.0*np.pi*x) + 0.5*np.exp(-80.0 * 1.j * 2.0*np.pi*x)\n",
        "yf = fft(y)\n",
        "xf = fftfreq(N, T)\n",
        "xf = fftshift(xf)\n",
        "yplot = fftshift(yf)\n",
        "import matplotlib.pyplot as plt\n",
        "plt.plot(xf, 1.0/N * np.abs(yplot))\n",
        "plt.grid()\n",
        "plt.show()"
      ],
      "metadata": {
        "id": "wNICHEuL6wiK"
      },
      "execution_count": null,
      "outputs": []
    },
    {
      "cell_type": "code",
      "source": [
        "from scipy.fft import fft, rfft, irfft\n",
        "x = np.array([1.0, 2.0, 1.0, -1.0, 1.5, 1.0])\n",
        "fft(x)"
      ],
      "metadata": {
        "id": "zZrU2tCk6w1o"
      },
      "execution_count": null,
      "outputs": []
    },
    {
      "cell_type": "code",
      "source": [
        "yr = rfft(x)\n",
        "yr"
      ],
      "metadata": {
        "id": "KebndWKU6xDR"
      },
      "execution_count": null,
      "outputs": []
    },
    {
      "cell_type": "code",
      "source": [
        "irfft(yr)"
      ],
      "metadata": {
        "id": "HmzmXRNn6xS8"
      },
      "execution_count": null,
      "outputs": []
    },
    {
      "cell_type": "code",
      "source": [
        "x = np.array([1.0, 2.0, 1.0, -1.0, 1.5])\n",
        "fft(x)"
      ],
      "metadata": {
        "id": "5DyWzA4w6-Ck"
      },
      "execution_count": null,
      "outputs": []
    },
    {
      "cell_type": "code",
      "source": [
        "yr = rfft(x)\n",
        "yr"
      ],
      "metadata": {
        "id": "mWLo_dgX6-SS"
      },
      "execution_count": null,
      "outputs": []
    },
    {
      "cell_type": "code",
      "source": [
        "irfft(yr)"
      ],
      "metadata": {
        "id": "GcMU1_Ot6-hg"
      },
      "execution_count": null,
      "outputs": []
    },
    {
      "cell_type": "code",
      "source": [
        "irfft(yr, n=len(x))"
      ],
      "metadata": {
        "id": "1VEtemCP6-0g"
      },
      "execution_count": null,
      "outputs": []
    },
    {
      "cell_type": "markdown",
      "source": [
        "2- and N-D discrete Fourier transforms"
      ],
      "metadata": {
        "id": "iVr5vhyu7Wcx"
      }
    },
    {
      "cell_type": "code",
      "source": [
        "from scipy.fft import ifftn\n",
        "import matplotlib.pyplot as plt\n",
        "import matplotlib.cm as cm\n",
        "import numpy as np\n",
        "N = 30\n",
        "f, ((ax1, ax2, ax3), (ax4, ax5, ax6)) = plt.subplots(2, 3, sharex='col', sharey='row')\n",
        "xf = np.zeros((N,N))\n",
        "xf[0, 5] = 1\n",
        "xf[0, N-5] = 1\n",
        "Z = ifftn(xf)\n",
        "ax1.imshow(xf, cmap=cm.Reds)\n",
        "ax4.imshow(np.real(Z), cmap=cm.gray)\n",
        "xf = np.zeros((N, N))\n",
        "xf[5, 0] = 1\n",
        "xf[N-5, 0] = 1\n",
        "Z = ifftn(xf)\n",
        "ax2.imshow(xf, cmap=cm.Reds)\n",
        "ax5.imshow(np.real(Z), cmap=cm.gray)\n",
        "xf = np.zeros((N, N))\n",
        "xf[5, 10] = 1\n",
        "xf[N-5, N-10] = 1\n",
        "Z = ifftn(xf)\n",
        "ax3.imshow(xf, cmap=cm.Reds)\n",
        "ax6.imshow(np.real(Z), cmap=cm.gray)\n",
        "plt.show()"
      ],
      "metadata": {
        "id": "a6r8s-8L6_Bb"
      },
      "execution_count": null,
      "outputs": []
    },
    {
      "cell_type": "markdown",
      "source": [
        "DCT and IDCT"
      ],
      "metadata": {
        "id": "lqYeqDbU7nr-"
      }
    },
    {
      "cell_type": "code",
      "source": [
        "from scipy.fft import dct, idct\n",
        "x = np.array([1.0, 2.0, 1.0, -1.0, 1.5])"
      ],
      "metadata": {
        "id": "Vvi_3-_07e_M"
      },
      "execution_count": null,
      "outputs": []
    },
    {
      "cell_type": "code",
      "source": [
        "dct(dct(x, type=2, norm='ortho'), type=3, norm='ortho')"
      ],
      "metadata": {
        "id": "-WUxe5lO7rKm"
      },
      "execution_count": null,
      "outputs": []
    },
    {
      "cell_type": "code",
      "source": [
        "dct(dct(x, type=2), type=3)"
      ],
      "metadata": {
        "id": "EWFgASH67vqw"
      },
      "execution_count": null,
      "outputs": []
    },
    {
      "cell_type": "code",
      "source": [
        "# Normalized inverse: no scaling factor\n",
        "idct(dct(x, type=2), type=2)"
      ],
      "metadata": {
        "id": "de5BQGP07yCi"
      },
      "execution_count": null,
      "outputs": []
    },
    {
      "cell_type": "code",
      "source": [
        "dct(dct(x, type=1, norm='ortho'), type=1, norm='ortho')\n",
        "# Unnormalized round-trip via DCT-I: scaling factor 2*(N-1) = 8\n",
        "dct(dct(x, type=1), type=1)\n",
        "# Normalized inverse: no scaling factor\n",
        "idct(dct(x, type=1), type=1"
      ],
      "metadata": {
        "id": "kF1uTUek71RB"
      },
      "execution_count": null,
      "outputs": []
    },
    {
      "cell_type": "code",
      "source": [
        "dct(dct(x, type=4, norm='ortho'), type=4, norm='ortho')\n",
        "# Unnormalized round-trip via DCT-IV: scaling factor 2*N = 10\n",
        "dct(dct(x, type=4), type=4)\n",
        "# Normalized inverse: no scaling factor\n",
        "idct(dct(x, type=4), type=4)"
      ],
      "metadata": {
        "id": "blq0zL5t79am"
      },
      "execution_count": null,
      "outputs": []
    },
    {
      "cell_type": "markdown",
      "source": [
        "EXAMPLE"
      ],
      "metadata": {
        "id": "rSAlpwCf8HNx"
      }
    },
    {
      "cell_type": "code",
      "source": [
        "from scipy.fft import dct, idct\n",
        "import matplotlib.pyplot as plt\n",
        "N = 100\n",
        "t = np.linspace(0,20,N, endpoint=False)\n",
        "x = np.exp(-t/3)*np.cos(2*t)\n",
        "y = dct(x, norm='ortho')\n",
        "window = np.zeros(N)\n",
        "window[:20] = 1\n",
        "yr = idct(y*window, norm='ortho')\n",
        "sum(abs(x-yr)**2) / sum(abs(x)**2)\n",
        "plt.plot(t, x, '-bx')\n",
        "plt.plot(t, yr, 'ro')\n",
        "window = np.zeros(N)\n",
        "window[:15] = 1\n",
        "yr = idct(y*window, norm='ortho')\n",
        "sum(abs(x-yr)**2) / sum(abs(x)**2)\n",
        "plt.plot(t, yr, 'g+')\n",
        "plt.legend(['x', '$x_{20}$', '$x_{15}$'])\n",
        "plt.grid()\n",
        "plt.show()"
      ],
      "metadata": {
        "id": "tK_b8Kr08Iz0"
      },
      "execution_count": null,
      "outputs": []
    },
    {
      "cell_type": "markdown",
      "source": [
        "Discrete Sine Transforms"
      ],
      "metadata": {
        "id": "FKTHguzh8TjC"
      }
    },
    {
      "cell_type": "code",
      "source": [
        "from scipy.fft import dst, idst\n",
        "x = np.array([1.0, 2.0, 1.0, -1.0, 1.5])"
      ],
      "metadata": {
        "id": "Fa48m7u08Uq-"
      },
      "execution_count": null,
      "outputs": []
    },
    {
      "cell_type": "code",
      "source": [
        "dst(dst(x, type=2, norm='ortho'), type=3, norm='ortho')"
      ],
      "metadata": {
        "id": "zat1wMuD8Y8I"
      },
      "execution_count": null,
      "outputs": []
    },
    {
      "cell_type": "code",
      "source": [
        "dst(dst(x, type=2), type=3)"
      ],
      "metadata": {
        "id": "tkgOCSJl8a-K"
      },
      "execution_count": null,
      "outputs": []
    },
    {
      "cell_type": "code",
      "source": [
        "idst(dst(x, type=2), type=2)"
      ],
      "metadata": {
        "id": "bFF48kl78cuy"
      },
      "execution_count": null,
      "outputs": []
    },
    {
      "cell_type": "code",
      "source": [
        "dst(dst(x, type=1, norm='ortho'), type=1, norm='ortho')\n",
        " # scaling factor 2*(N+1) = 12\n",
        "dst(dst(x, type=1), type=1)\n",
        "# no scaling factor\n",
        "idst(dst(x, type=1), type=1)"
      ],
      "metadata": {
        "id": "ulnfqPXn8eD6"
      },
      "execution_count": null,
      "outputs": []
    },
    {
      "cell_type": "code",
      "source": [
        "dst(dst(x, type=4, norm='ortho'), type=4, norm='ortho')\n",
        " # scaling factor 2*N = 10\n",
        "dst(dst(x, type=4), type=4)\n",
        "# no scaling factor\n",
        "idst(dst(x, type=4), type=4)"
      ],
      "metadata": {
        "id": "NjyGemlW8eQI"
      },
      "execution_count": null,
      "outputs": []
    }
  ]
}